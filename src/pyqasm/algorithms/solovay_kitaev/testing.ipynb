{
 "cells": [
  {
   "cell_type": "code",
   "execution_count": 1,
   "metadata": {},
   "outputs": [],
   "source": [
    "import qiskit\n",
    "from qiskit.circuit.random import random_circuit\n",
    "from qiskit.quantum_info import Operator\n",
    "import random"
   ]
  },
  {
   "cell_type": "markdown",
   "metadata": {},
   "source": [
    "### Generating random circuits"
   ]
  },
  {
   "cell_type": "code",
   "execution_count": 2,
   "metadata": {},
   "outputs": [],
   "source": [
    "class CircuitInfo:\n",
    "    def __init__(self, qc, resultant_unitary, gate_names):\n",
    "        self.qc = qc\n",
    "        self.resultant_unitary = resultant_unitary\n",
    "        self.gate_names = gate_names"
   ]
  },
  {
   "cell_type": "code",
   "execution_count": 3,
   "metadata": {},
   "outputs": [],
   "source": [
    "circuit_list = []\n",
    "\n",
    "for _ in range(10):\n",
    "    qc = random_circuit(1, random.randint(1, 20), measure=False)\n",
    "    resultant_unitary = Operator(qc).data\n",
    "    gate_names = [instruction.operation.name for instruction in qc.data]\n",
    "    \n",
    "    circuit_list.append(CircuitInfo(qc, resultant_unitary, gate_names))"
   ]
  },
  {
   "cell_type": "code",
   "execution_count": 4,
   "metadata": {},
   "outputs": [
    {
     "data": {
      "image/png": "[encoded data removed]",
      "text/plain": [
       "<Figure size 352.675x117.056 with 1 Axes>"
      ]
     },
     "execution_count": 4,
     "metadata": {},
     "output_type": "execute_result"
    }
   ],
   "source": [
    "circuit_list[0].qc.draw(output='mpl')"
   ]
  },
  {
   "cell_type": "code",
   "execution_count": 5,
   "metadata": {},
   "outputs": [
    {
     "data": {
      "text/plain": [
       "array([[ 0.70710678+0.j, -0.70710678+0.j],\n",
       "       [-0.70710678+0.j, -0.70710678+0.j]])"
      ]
     },
     "execution_count": 5,
     "metadata": {},
     "output_type": "execute_result"
    }
   ],
   "source": [
    "circuit_list[0].resultant_unitary"
   ]
  },
  {
   "cell_type": "code",
   "execution_count": 8,
   "metadata": {},
   "outputs": [
    {
     "data": {
      "text/plain": [
       "['z', 'x', 'h']"
      ]
     },
     "execution_count": 8,
     "metadata": {},
     "output_type": "execute_result"
    }
   ],
   "source": [
    "circuit_list[0].gate_names"
   ]
  },
  {
   "cell_type": "markdown",
   "metadata": {},
   "source": [
    "### Performing Testing"
   ]
  },
  {
   "cell_type": "code",
   "execution_count": 2,
   "metadata": {},
   "outputs": [],
   "source": [
    "import timeit\n",
    "from functools import partial\n",
    "\n",
    "from pyqasm.algorithms import solovay_kitaev\n",
    "from pyqasm.maps.gates import BasisSet"
   ]
  },
  {
   "cell_type": "code",
   "execution_count": 3,
   "metadata": {},
   "outputs": [],
   "source": [
    "import numpy as np"
   ]
  },
  {
   "cell_type": "code",
   "execution_count": 34,
   "metadata": {},
   "outputs": [],
   "source": [
    "def measure_result_and_time(target_matrix_U, target_gate_set):\n",
    "    result = solovay_kitaev(target_matrix_U, target_gate_set, depth=20)\n",
    "    \n",
    "    partial_func = partial(solovay_kitaev, target_matrix_U, target_gate_set, 20)\n",
    "    avg_exc_time = timeit.timeit(partial_func, number=1)/1\n",
    "    return result, avg_exc_time"
   ]
  },
  {
   "cell_type": "code",
   "execution_count": 35,
   "metadata": {},
   "outputs": [],
   "source": [
    "def test_and_analyze_sk_algo(circuit_list, target_gate_set):\n",
    "    for circuit in circuit_list:\n",
    "        result, avg_exc_time = measure_result_and_time(circuit.resultant_unitary, target_gate_set)\n",
    "        result_distance = np.linalg.norm(result.matrix - circuit.resultant_unitary, 2)\n",
    "        \n",
    "        print(\"------------------------------------------------\")\n",
    "        print(f\"Execution time:     {avg_exc_time}\")\n",
    "        print(f\"Circuit gates:      {circuit.gate_names}\")\n",
    "        print(f\"Decomposed gates:   {result.name}\")\n",
    "        print(f\"Distance:           {result_distance}\")\n",
    "        print(f\"Is within accuracy: {result_distance < 1e-6}\")\n",
    "        print(\"Orignal resultant matrix:\")\n",
    "        print(circuit.resultant_unitary)\n",
    "        print(\"Decomposed resultant unitary:\")\n",
    "        print(result.matrix)\n",
    "        print(\"------------------------------------------------\")"
   ]
  },
  {
   "cell_type": "code",
   "execution_count": 36,
   "metadata": {},
   "outputs": [
    {
     "name": "stdout",
     "output_type": "stream",
     "text": [
      "------------------------------------------------\n",
      "Execution time:     2.4317583000083687\n",
      "Circuit gates:      ['z', 'x', 'h']\n",
      "Decomposed gates:   ['t', 't', 't', 't', 'h', 't', 't', 's']\n",
      "Distance:           2.7488925102312213e-16\n",
      "Is within accuracy: True\n",
      "Orignal resultant matrix:\n",
      "[[ 0.70710678+0.j -0.70710678+0.j]\n",
      " [-0.70710678+0.j -0.70710678+0.j]]\n",
      "Decomposed resultant unitary:\n",
      "[[ 0.70710678+0.00000000e+00j -0.70710678+0.00000000e+00j]\n",
      " [-0.70710678-2.53429949e-17j -0.70710678-5.55111512e-17j]]\n",
      "------------------------------------------------\n",
      "------------------------------------------------\n",
      "Execution time:     4.228998799997498\n",
      "Circuit gates:      ['r', 'u1']\n",
      "Decomposed gates:   ['h', 't', 't', 't', 't', 't', 's', 'h', 'sdg', 'tdg', 'tdg', 'tdg', 'tdg', 'tdg', 'h', 's', 's', 'h', 's', 's', 'h', 's', 's', 'h']\n",
      "Distance:           0.4046729693889623\n",
      "Is within accuracy: False\n",
      "Orignal resultant matrix:\n",
      "[[-0.8987577 +0.j         -0.31607208+0.30386352j]\n",
      " [-0.14188982-0.41485163j  0.79903828+0.41146473j]]\n",
      "Decomposed resultant unitary:\n",
      "[[-0.85355339+0.35355339j -0.14644661+0.35355339j]\n",
      " [-0.14644661-0.35355339j  0.85355339+0.35355339j]]\n",
      "------------------------------------------------\n",
      "------------------------------------------------\n",
      "Execution time:     2.119061999997939\n",
      "Circuit gates:      ['z', 'sdg', 'sdg', 't', 's', 'sx', 'y']\n",
      "Decomposed gates:   ['s', 'h', 't', 's', 's', 'h', 's', 's', 'h', 's']\n",
      "Distance:           2.027528834450315e-16\n",
      "Is within accuracy: True\n",
      "Orignal resultant matrix:\n",
      "[[-0.5       -0.5j         0.        +0.70710678j]\n",
      " [-0.5       +0.5j        -0.70710678+0.j        ]]\n",
      "Decomposed resultant unitary:\n",
      "[[-5.00000000e-01-5.00000000e-01j -1.11855716e-17+7.07106781e-01j]\n",
      " [-5.00000000e-01+5.00000000e-01j -7.07106781e-01+1.11855716e-17j]]\n",
      "------------------------------------------------\n",
      "------------------------------------------------\n",
      "Execution time:     2.345279599991045\n",
      "Circuit gates:      ['r', 's', 'rz', 'sdg']\n",
      "Decomposed gates:   ['t', 'h', 's', 's', 'h', 's', 's', 's', 'h', 't']\n",
      "Distance:           0.27439900654353205\n",
      "Is within accuracy: False\n",
      "Orignal resultant matrix:\n",
      "[[ 0.20618486-0.55826326j -0.59488154+0.54032018j]\n",
      " [ 0.59488154+0.54032018j  0.20618486+0.55826326j]]\n",
      "Decomposed resultant unitary:\n",
      "[[-9.59550172e-18-0.70710678j -5.00000000e-01+0.5j       ]\n",
      " [ 5.00000000e-01+0.5j         5.25894755e-16+0.70710678j]]\n",
      "------------------------------------------------\n",
      "------------------------------------------------\n",
      "Execution time:     19.87103229999775\n",
      "Circuit gates:      ['u3', 'ry', 's', 'ry', 'sx', 'ry', 'ry', 'sdg', 'u', 'x', 'rx', 'sxdg', 'id', 'ry', 'u', 'u3']\n",
      "Decomposed gates:   ['s', 's', 'sdg', 'sdg', 's', 's', 'sdg', 'sdg', 's', 's', 'sdg', 'sdg', 's', 's', 'sdg', 'sdg', 's', 's', 'sdg', 'sdg', 's', 's', 'sdg', 'sdg', 's', 's', 'sdg', 'sdg', 's', 's', 'sdg', 'sdg', 's', 's', 'sdg', 'sdg', 's', 's', 'sdg', 'sdg', 's', 's', 'sdg', 'sdg', 's', 's', 'sdg', 'sdg', 's', 's', 'sdg', 'sdg', 's', 's', 'sdg', 'sdg', 's', 's', 'sdg', 'sdg', 's', 's', 'sdg', 'sdg', 's', 't', 'h', 't', 'h', 't', 's', 'h']\n",
      "Distance:           0.2770351557535887\n",
      "Is within accuracy: False\n",
      "Orignal resultant matrix:\n",
      "[[ 0.62808441+0.45021745j  0.59411116+0.22326252j]\n",
      " [ 0.29575769-0.56155286j -0.17038302+0.75376084j]]\n",
      "Decomposed resultant unitary:\n",
      "[[ 0.70710678+5.00000000e-01j  0.5       -9.06080907e-18j]\n",
      " [ 0.35355339-3.53553391e-01j -0.14644661+8.53553391e-01j]]\n",
      "------------------------------------------------\n",
      "------------------------------------------------\n",
      "Execution time:     2.138298299993039\n",
      "Circuit gates:      ['u2', 'ry', 'h']\n",
      "Decomposed gates:   ['h', 's', 's', 'h', 't', 'h', 't', 's', 'h', 's']\n",
      "Distance:           0.3227556363764241\n",
      "Is within accuracy: False\n",
      "Orignal resultant matrix:\n",
      "[[ 0.92162512+0.21404063j -0.32184159+0.0348101j ]\n",
      " [ 0.09123887+0.31059494j  0.55102236+0.76914277j]]\n",
      "Decomposed resultant unitary:\n",
      "[[ 0.85355339+0.35355339j -0.35355339-0.14644661j]\n",
      " [ 0.14644661+0.35355339j  0.35355339+0.85355339j]]\n",
      "------------------------------------------------\n",
      "------------------------------------------------\n",
      "Execution time:     8.068621699989308\n",
      "Circuit gates:      ['u']\n",
      "Decomposed gates:   ['s', 'h', 't', 'h', 't', 'h', 's', 's', 't']\n",
      "Distance:           0.3480364791371961\n",
      "Is within accuracy: False\n",
      "Orignal resultant matrix:\n",
      "[[ 0.81342817+0.j         -0.05970368-0.5785932j ]\n",
      " [-0.24774313+0.52626795j -0.76763181-0.26908508j]]\n",
      "Decomposed resultant unitary:\n",
      "[[ 8.53553391e-01+0.14644661j  3.64046306e-17-0.5j       ]\n",
      " [-3.53553391e-01+0.35355339j -7.07106781e-01-0.5j       ]]\n",
      "------------------------------------------------\n",
      "------------------------------------------------\n",
      "Execution time:     18.017034499993315\n",
      "Circuit gates:      ['y', 'u1', 'r', 'h', 'z', 'u1', 'p', 'u', 'u2', 's', 'u', 'sx', 't', 'x', 'u2', 'y']\n",
      "Decomposed gates:   ['s', 's', 'sdg', 'sdg', 's', 's', 'sdg', 'sdg', 's', 's', 'sdg', 'sdg', 's', 's', 'sdg', 'sdg', 's', 's', 'sdg', 'sdg', 's', 's', 'sdg', 'sdg', 's', 's', 'sdg', 'sdg', 's', 's', 'sdg', 'sdg', 's', 's', 'sdg', 'sdg', 's', 's', 'tdg', 'tdg', 'tdg', 'tdg', 's', 't', 'sdg', 'tdg', 'h', 't', 't', 'h', 's', 's', 's', 'h', 't', 't']\n",
      "Distance:           0.39865290368990064\n",
      "Is within accuracy: False\n",
      "Orignal resultant matrix:\n",
      "[[-0.06007544-0.01807924j -0.70686923+0.70455658j]\n",
      " [ 0.92164167-0.38293696j -0.0063209 +0.06241765j]]\n",
      "Decomposed resultant unitary:\n",
      "[[-5.19907294e-17+7.49842011e-17j -7.07106781e-01+7.07106781e-01j]\n",
      " [ 7.07106781e-01-7.07106781e-01j  3.89002693e-16-3.66009221e-16j]]\n",
      "------------------------------------------------\n",
      "------------------------------------------------\n",
      "Execution time:     23.155897600008757\n",
      "Circuit gates:      ['z', 'tdg', 'z', 'u2', 't', 'id', 'sxdg', 'sx', 'id', 's', 'y', 'id', 'sx', 't', 'y', 'ry', 'rz']\n",
      "Decomposed gates:   ['s', 's', 'sdg', 'sdg', 's', 's', 'sdg', 'sdg', 's', 's', 'sdg', 'sdg', 's', 's', 'sdg', 'sdg', 's', 's', 'sdg', 'sdg', 's', 's', 'sdg', 'sdg', 's', 's', 'sdg', 'sdg', 's', 's', 'sdg', 'sdg', 's', 's', 'sdg', 'sdg', 's', 's', 'sdg', 'sdg', 's', 's', 'sdg', 'sdg', 's', 's', 'sdg', 'sdg', 's', 's', 'sdg', 'sdg', 't', 'tdg', 'h', 's', 's', 'h', 's', 's', 's', 'h', 's', 't']\n",
      "Distance:           0.45184583063972\n",
      "Is within accuracy: False\n",
      "Orignal resultant matrix:\n",
      "[[-0.25037996-0.72070377j -0.17476521-0.62237696j]\n",
      " [ 0.54982081-0.33998975j -0.67202971+0.36122031j]]\n",
      "Decomposed resultant unitary:\n",
      "[[-1.36185234e-17-7.07106781e-01j -5.00000000e-01-5.00000000e-01j]\n",
      " [ 7.07106781e-01+2.32873552e-16j -5.00000000e-01+5.00000000e-01j]]\n",
      "------------------------------------------------\n",
      "------------------------------------------------\n",
      "Execution time:     30.734558600001037\n",
      "Circuit gates:      ['u', 'rz', 'p', 's', 'z', 'z', 'p', 'sx', 'tdg', 't', 'rx', 'rx', 'rx']\n",
      "Decomposed gates:   ['s', 's', 'sdg', 'sdg', 's', 's', 'sdg', 'sdg', 's', 's', 'sdg', 'sdg', 's', 's', 'tdg', 'tdg', 'tdg', 'tdg', 's', 't', 'tdg', 'tdg', 'tdg', 's', 't', 'sdg', 'tdg', 'h', 't', 't', 'h', 's', 'h', 's', 't', 'h', 's']\n",
      "Distance:           0.23391882033249825\n",
      "Is within accuracy: False\n",
      "Orignal resultant matrix:\n",
      "[[ 0.53716092+0.49705851j -0.4588246 +0.50385611j]\n",
      " [-0.15799653+0.66289372j  0.71324392+0.16398819j]]\n",
      "Decomposed resultant unitary:\n",
      "[[ 5.00000000e-01+5.00000000e-01j -5.00000000e-01+5.00000000e-01j]\n",
      " [-5.98455758e-16+7.07106781e-01j  7.07106781e-01+1.35729377e-16j]]\n",
      "------------------------------------------------\n"
     ]
    }
   ],
   "source": [
    "test_and_analyze_sk_algo(circuit_list, BasisSet.CLIFFORD_T)"
   ]
  }
 ],
 "metadata": {
  "kernelspec": {
   "display_name": "qbraid-venv",
   "language": "python",
   "name": "python3"
  },
  "language_info": {
   "codemirror_mode": {
    "name": "ipython",
    "version": 3
   },
   "file_extension": ".py",
   "mimetype": "text/x-python",
   "name": "python",
   "nbconvert_exporter": "python",
   "pygments_lexer": "ipython3",
   "version": "3.11.0"
  }
 },
 "nbformat": 4,
 "nbformat_minor": 2
}
